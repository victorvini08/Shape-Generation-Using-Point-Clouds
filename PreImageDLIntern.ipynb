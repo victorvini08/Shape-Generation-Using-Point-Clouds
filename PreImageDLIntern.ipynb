{
  "nbformat": 4,
  "nbformat_minor": 0,
  "metadata": {
    "colab": {
      "name": "PreImageDLIntern.ipynb",
      "provenance": [],
      "collapsed_sections": []
    },
    "kernelspec": {
      "display_name": "Python 3",
      "name": "python3"
    },
    "language_info": {
      "name": "python"
    }
  },
  "cells": [
    {
      "cell_type": "code",
      "metadata": {
        "id": "DvL8TlXymDlp"
      },
      "source": [
        "import numpy as np"
      ],
      "execution_count": null,
      "outputs": []
    },
    {
      "cell_type": "code",
      "metadata": {
        "colab": {
          "base_uri": "https://localhost:8080/"
        },
        "id": "3HjclwPEm6lK",
        "outputId": "0ce77568-1e4e-4e2e-e173-30ea70aa8ebd"
      },
      "source": [
        "cd 'drive/MyDrive/'"
      ],
      "execution_count": null,
      "outputs": [
        {
          "output_type": "stream",
          "text": [
            "/content/drive/MyDrive\n"
          ],
          "name": "stdout"
        }
      ]
    },
    {
      "cell_type": "code",
      "metadata": {
        "colab": {
          "base_uri": "https://localhost:8080/"
        },
        "id": "zbaEluBMn3tY",
        "outputId": "5ae12544-cd62-4260-9475-d6e2c36817a2"
      },
      "source": [
        "!ls"
      ],
      "execution_count": null,
      "outputs": [
        {
          "output_type": "stream",
          "text": [
            "'19CS30006 (1).pdf'\n",
            "'19CS30006 (2).pdf'\n",
            "'19CS30006 (3).pdf'\n",
            " 19CS30006_Aryan_Mehta.pdf\n",
            "'19CS30006_FLAT_LT2 .pdf'\n",
            "'19CS30006_G09_WS7.pdf (1).gdoc'\n",
            " 19CS30006_LT1.pdf\n",
            " 19CS30006_LT2.pdf\n",
            "'19CS30006_LT3 (1).pdf'\n",
            " 19CS30006_LT3.pdf\n",
            "'19CS30006 .pdf'\n",
            " 19CS30006.pdf\n",
            " 19CS30006_Q2.pdf\n",
            " 19CS30006_Q3.pdf\n",
            " 19CS30006_Signet_Test_4.pdf\n",
            " 19CS30006_UML.gdoc\n",
            " 4th_Aryan_Mehta_19CS30006.gdoc\n",
            "'5th Week Assignment-GNH.docx'\n",
            "'5th Week Assignment-GNH.gdoc'\n",
            " 6bitBCD.xopp\n",
            " 6th_Aryan_Mehta_19CS30006.docx\n",
            " 6th_Aryan_Mehta_19CS30006.gdoc\n",
            " 7th_Aryan_Mehta_19CS30006.gdoc\n",
            " 8th_Aryan_Mehta_19CS30006.gdoc\n",
            " ActivityDiagram.drawio\n",
            " AGV\n",
            "'agv documentation 2020.gdoc'\n",
            " agv_obstacle_detection\n",
            " AGV_TASKS\n",
            "'annotated DL research papers '\n",
            " Audio-Classification\n",
            " audio_data.csv\n",
            "'basic ros commands.gdoc'\n",
            "'b Club.gdoc'\n",
            " cache\n",
            " checkpoints_VGG_0.01\n",
            " Class_Diagram.drawio\n",
            " Classroom\n",
            "'Colab Notebooks'\n",
            " CommunicationDiagram.drawio\n",
            "'Copy of Abstract Origami Template – by PresentationGO.gslides'\n",
            "'Copy of Gaoler · SlidesCarnival.gslides'\n",
            "'Copy of Pentagon Arrow Process – by PresentationGO.gslides'\n",
            "'Copy of Project Topic Description.gdoc'\n",
            " CS21001-Aut20-Marks-ALL-Shared.pdf\n",
            " cs231n\n",
            "'DAY-TO-DAY DOCUMENTATION.gdoc'\n",
            "'deeplab (1).cpython-36.pyc'\n",
            " deeplab.cpython-36.pyc\n",
            "' DEEP LEARNING RESOURCES.gdoc'\n",
            "'Distance monitor task allotment.gsheet'\n",
            " DLTask_intern.pdf\n",
            " _Draft2.gdoc\n",
            " ECE_LAB_EXP_5_19CS30006_Aryan_Mehta.gdoc\n",
            "'ECE Lab EXPERIMENT 1.gdoc'\n",
            "'ECE LAB EXPERIMENT-2.gdoc'\n",
            "'ECE LAB EXPERIMENT-3.gdoc'\n",
            "'ECE LAB EXPERIMENT-4.gdoc'\n",
            "'Ec lab details.gdoc'\n",
            "'Email to the institute.rtf.gdoc'\n",
            " enet_model.py\n",
            " ET_19CS30006_Sec19_X8_4.gdoc\n",
            " ET_19CS30006_Sec19_X8_5.gdoc\n",
            "'Extra Dataset'\n",
            " EXTRA_DATASET_TSINGHUA\n",
            "'FDA- ML REPRODUCIBILITY CHALLENGE.gdoc'\n",
            " fts.xlsx\n",
            "'German Test 19CS30006.gdoc'\n",
            " German_Test_2_19CS30006_Aryan_Mehta.gdoc\n",
            "'German Test II, 23.3.21.docx'\n",
            "'Getting started.pdf'\n",
            "'GIT AND GITHUB.gdoc'\n",
            "'GNH- 2nd Week Assignment.docx'\n",
            "'GNH- 2nd Week Assignment.gdoc'\n",
            " GNH_3rd_Aryan_Mehta_19CS30006.docx\n",
            " GNH_3rd_Aryan_Mehta_19CS30006.gdoc\n",
            "'GNH 3rd Week Assignment.docx'\n",
            "'GNH 3rd Week Assignment.gdoc'\n",
            "'GNH ASSIGNMENT-1.gdoc'\n",
            "'GNH Assignment-2.gdoc'\n",
            "'GNH ASSIGNMENT 4.gdoc'\n",
            "'GNH DISCUSSION.gdoc'\n",
            "'GNH FORM  (Responses).gsheet'\n",
            "'GNH Project Data.gsheet'\n",
            "'GNH Project.gdoc'\n",
            "'GNH_Variables (1).gsheet'\n",
            "'GNH_Variables (1).xlsx'\n",
            " GNH_Variables.gsheet\n",
            " GNH_Variables.xlsx\n",
            " gta5_100000_mIoU.txt\n",
            " Guide_for_project_work,autumn2020.docx\n",
            " Guide_for_project_work,autumn2020.gdoc\n",
            "'Hate Video Annoatation.xlsx'\n",
            "'Hate Videos - Aryan.xlsx'\n",
            "'HS LAB ASSIGNMENT.gdoc'\n",
            "'HS LISTENING TEST ANSWERS.gdoc'\n",
            "'HS SPEAKING-2 ANSWERS.gdoc'\n",
            "'HS SPEAKING TEST .gdoc'\n",
            " IMG-20191006-WA0004.jpg\n",
            " index\n",
            "'index (1)'\n",
            "'index (10)'\n",
            "'index (11)'\n",
            "'index (12)'\n",
            "'index (13)'\n",
            "'index (14)'\n",
            "'index (15)'\n",
            "'index (16)'\n",
            "'index (17)'\n",
            "'index (18)'\n",
            "'index (19)'\n",
            "'index (2)'\n",
            "'index (20)'\n",
            "'index (21)'\n",
            "'index (22)'\n",
            "'index (23)'\n",
            "'index (24)'\n",
            "'index (25)'\n",
            "'index (26)'\n",
            "'index (27)'\n",
            "'index (28)'\n",
            "'index (29)'\n",
            "'index (3)'\n",
            "'index (30)'\n",
            "'index (31)'\n",
            "'index (4)'\n",
            "'index (5)'\n",
            "'index (6)'\n",
            "'index (7)'\n",
            "'index (8)'\n",
            "'index (9)'\n",
            "'INDI AUTONOMOUS CHALLENGE.gdoc'\n",
            " InterIIT_Tsinghwa_final.zip\n",
            "'kalmann (1).gdoc'\n",
            "'kalmann (2).gdoc'\n",
            "'kalmann (3).gdoc'\n",
            " kalmann.gdoc\n",
            "'KDAG Workshop MCQ.gform'\n",
            " ManchesterEncoding.drawio\n",
            " ManchesterEncoding.png\n",
            "'Micronet Different Classes Tsinghua-Karan-Set-With-Weights-Iter1.gsheet'\n",
            "'micronet with tshinghua 5 classes.gsheet'\n",
            "'micronnet with weights with heavy augmentation on kirtan set.gsheet'\n",
            "'MODULE DOCUMENTATION.gdoc'\n",
            " ms_coco_annotations_file_2014\n",
            "'NAMES OF CHANNELS WITH HATE VIDEOS :.gdoc'\n",
            " NCC_Assignemnt_19CS30006.gdoc\n",
            " New_City\n",
            "'OPENCV DOCUMENTATION.gdoc'\n",
            " OPIGS.gslides\n",
            "'opt (1).txt'\n",
            "'opt (2).txt'\n",
            " opt.txt\n",
            "'PIV VALUES RECTIFIERS.gdoc'\n",
            " pred.csv.gsheet\n",
            " prediction_audio_hate_classification.txt\n",
            " Project_Data\n",
            " project_data.zip\n",
            "'Resume (4).pdf'\n",
            " scld_last_test.txt\n",
            "'segmentation techniques in ip'\n",
            " SequenceDiagram.drawio\n",
            " shapenet-chairs-pcd\n",
            " shapenet-chairs-pcd.zip\n",
            " signature.png\n",
            "'SOLUTIONS FOR TUTORIAL SHEET-9'\n",
            " StateChartDiagram.drawio\n",
            "'TA EMAILS SOFTWARE ENGINEERING LAB 2021.gdoc'\n",
            "'Test Suite SE Lab Project.gdoc'\n",
            "'Thermodynamics_ Part-II (modified) (1).gdoc'\n",
            "'Thermodynamics_ Part-II (modified) (1).pdf'\n",
            "'Thermodynamics_ Part-II (modified) (2).gdoc'\n",
            "'Thermodynamics_ Part-II (modified).gdoc'\n",
            "'Thermodynamics_ Part-II (modified).pdf'\n",
            " traffic_sign_interiit\n",
            " traffic_sign_interiit-add_classes\n",
            " traffic_sign_interiit-main\n",
            "'TRICKS TO IMPROVE YOUR MACHINE DEEP LEARNING MODEL.gdoc'\n",
            " Tsinghwa_1\n",
            "'Untitled Diagram (1).drawio'\n",
            "'Untitled Diagram (2).drawio'\n",
            "'Untitled Diagram.drawio'\n",
            "'Untitled document (10).gdoc'\n",
            "'Untitled document (11).gdoc'\n",
            "'Untitled document (12).gdoc'\n",
            "'Untitled document (13).gdoc'\n",
            "'Untitled document (14).gdoc'\n",
            "'Untitled document (15).gdoc'\n",
            "'Untitled document (1).gdoc'\n",
            "'Untitled document (2).gdoc'\n",
            "'Untitled document (3).gdoc'\n",
            "'Untitled document (4).gdoc'\n",
            "'Untitled document (5).gdoc'\n",
            "'Untitled document (6).gdoc'\n",
            "'Untitled document (7).gdoc'\n",
            "'Untitled document (8).gdoc'\n",
            "'Untitled document (9).gdoc'\n",
            "'Untitled document.gdoc'\n",
            "'Untitled form.gform'\n",
            "'Untitled presentation (1).gslides'\n",
            "'Untitled presentation.gslides'\n",
            "'Untitled spreadsheet (1).gsheet'\n",
            "'Untitled spreadsheet (2).gsheet'\n",
            "'Untitled spreadsheet (3).gsheet'\n",
            "'Untitled spreadsheet.gsheet'\n",
            " VGG_INIT\n",
            " VGG_INIT.zip\n",
            "'WINTER PROJECT 2020-2021.gdoc'\n"
          ],
          "name": "stdout"
        }
      ]
    },
    {
      "cell_type": "code",
      "metadata": {
        "id": "gOLzULA4n4dF"
      },
      "source": [
        "#!unzip './shapenet-chairs-pcd.zip'"
      ],
      "execution_count": null,
      "outputs": []
    },
    {
      "cell_type": "code",
      "metadata": {
        "id": "Tlcs6kUQoGWn"
      },
      "source": [
        "def create_input_points_array(file_location):\n",
        "    points=[]\n",
        "    with open(file_location) as myfile:\n",
        "        lines = myfile.readlines()[10:]\n",
        "    for line in lines:\n",
        "        coordinates = line.split(' ')\n",
        "        coordinates=np.array(coordinates,dtype=np.float)\n",
        "        points.append(coordinates)\n",
        "    points = np.vstack(points)\n",
        "    return points\n",
        "    "
      ],
      "execution_count": null,
      "outputs": []
    },
    {
      "cell_type": "markdown",
      "metadata": {
        "id": "9Fc_APTu1Zf2"
      },
      "source": [
        "KD-TREE BUILDING"
      ]
    },
    {
      "cell_type": "code",
      "metadata": {
        "colab": {
          "base_uri": "https://localhost:8080/"
        },
        "id": "VY2Ly4Bm5aQ_",
        "outputId": "da5b1125-defa-4ed1-c0a7-6282138d2ba2"
      },
      "source": [
        "import os\n",
        "from sklearn.neighbors import KDTree\n",
        "base_file_location = 'shapenet-chairs-pcd/'\n",
        "P=[]\n",
        "for myfile in os.listdir(base_file_location):\n",
        "    file_location = base_file_location + myfile\n",
        "    points = create_input_points_array(file_location)\n",
        "    #print(points)\n",
        "    kd_tree = KDTree(points)\n",
        "    sorted_points = points[kd_tree.get_arrays()[1]]\n",
        "    P.append(sorted_points.flatten())      \n",
        "P = np.vstack(P)\n",
        "print(P.shape)    "
      ],
      "execution_count": null,
      "outputs": [
        {
          "output_type": "stream",
          "text": [
            "(5000, 3000)\n"
          ],
          "name": "stdout"
        }
      ]
    },
    {
      "cell_type": "markdown",
      "metadata": {
        "id": "3gIdbYxv1eEy"
      },
      "source": [
        "PCA ANALYSIS"
      ]
    },
    {
      "cell_type": "code",
      "metadata": {
        "id": "7AiuNQyD6JpR",
        "colab": {
          "base_uri": "https://localhost:8080/"
        },
        "outputId": "90e3a976-e736-422f-a25f-2b92d964c224"
      },
      "source": [
        "from sklearn.decomposition import PCA\n",
        "pca = PCA(100)\n",
        "pca.fit(P)\n",
        "U = pca.components_\n",
        "V = pca.transform(P)\n",
        "print(U.shape)\n",
        "print(V.shape)\n",
        "          "
      ],
      "execution_count": null,
      "outputs": [
        {
          "output_type": "stream",
          "text": [
            "(100, 3000)\n",
            "(5000, 100)\n"
          ],
          "name": "stdout"
        }
      ]
    },
    {
      "cell_type": "markdown",
      "metadata": {
        "id": "k5GLkSUwNbhq"
      },
      "source": [
        "Interative Point Ordering\n"
      ]
    },
    {
      "cell_type": "code",
      "metadata": {
        "id": "gEq0QrMVNaug"
      },
      "source": [
        "iterations = 1000\n",
        "K = 10000\n",
        "for i in range(iterations):\n",
        "    pca.fit(P)\n",
        "    for j in range(K):\n",
        "        p1,p2=np.random.randint(0,1000,2)\n",
        "        shape=np.random.randint(0,5000,1)\n",
        "        initial_loss=((pca.inverse_transform(pca.transform(P[shape]))-P[shape])**2).sum()\n",
        "        swapped_loss = ((pca.inverse_transform(pca.transform(P[shape]))-P[shape])**2).sum()\n",
        "\n",
        "        if swapped_loss > initial_loss:\n",
        "            P[shape,3*p1 : 3*p1 +3] = P[shape,3*p2 : 3*p2 +3]\n",
        "            P[shape,3*p2 : 3*p2 +3]= P[shape,3*p1 : 3*p1 +3]\n",
        "\n"
      ],
      "execution_count": null,
      "outputs": []
    },
    {
      "cell_type": "markdown",
      "metadata": {
        "id": "qAFJkgdWZ24l"
      },
      "source": [
        "GAN Training\n"
      ]
    },
    {
      "cell_type": "code",
      "metadata": {
        "id": "rgw61iGMZX6S",
        "colab": {
          "base_uri": "https://localhost:8080/",
          "height": 374
        },
        "outputId": "073c72e3-6711-4b04-9703-6eddc74fb6ba"
      },
      "source": [
        "from torch import nn,optim\n",
        "from torch.nn import functional as F\n",
        "from torchvision import datasets,models,transforms\n",
        "\n",
        "\n",
        "generator=nn.Sequential(nn.Linear(100,100),\n",
        "                      nn.BatchNorm1d(100),\n",
        "                      nn.ReLU(),\n",
        "                      nn.Linear(100,100),\n",
        "                      nn.BatchNorm1d(100),\n",
        "                      nn.ReLU(),\n",
        "                      nn.Linear(100,100),\n",
        "                      nn.BatchNorm1d(100),\n",
        "                      nn.ReLU(),\n",
        "                      nn.Linear(100,100)).cuda()\n",
        "\n",
        "discriminator=nn.Sequential(nn.Linear(100,100),\n",
        "                      nn.BatchNorm1d(100),\n",
        "                      nn.LeakyReLU(),\n",
        "                      nn.Linear(100,100),\n",
        "                      nn.BatchNorm1d(100),\n",
        "                      nn.LeakyReLU(),\n",
        "                      nn.Linear(100,100),\n",
        "                      nn.BatchNorm1d(100),\n",
        "                      nn.LeakyReLU(),\n",
        "                      nn.Linear(100,1)).cuda()\n",
        "\n",
        "optimizer_discriminator = optim.Adam(discrimator.parameters(),lr=0.0001)\n",
        "optimizer_generator = optim.Adam(generator.parameters(),lr=0.0025)"
      ],
      "execution_count": null,
      "outputs": [
        {
          "output_type": "error",
          "ename": "RuntimeError",
          "evalue": "ignored",
          "traceback": [
            "\u001b[0;31m---------------------------------------------------------------------------\u001b[0m",
            "\u001b[0;31mRuntimeError\u001b[0m                              Traceback (most recent call last)",
            "\u001b[0;32m<ipython-input-8-7c4d25023a61>\u001b[0m in \u001b[0;36m<module>\u001b[0;34m()\u001b[0m\n\u001b[1;32m     13\u001b[0m                       \u001b[0mnn\u001b[0m\u001b[0;34m.\u001b[0m\u001b[0mBatchNorm1d\u001b[0m\u001b[0;34m(\u001b[0m\u001b[0;36m100\u001b[0m\u001b[0;34m)\u001b[0m\u001b[0;34m,\u001b[0m\u001b[0;34m\u001b[0m\u001b[0;34m\u001b[0m\u001b[0m\n\u001b[1;32m     14\u001b[0m                       \u001b[0mnn\u001b[0m\u001b[0;34m.\u001b[0m\u001b[0mReLU\u001b[0m\u001b[0;34m(\u001b[0m\u001b[0;34m)\u001b[0m\u001b[0;34m,\u001b[0m\u001b[0;34m\u001b[0m\u001b[0;34m\u001b[0m\u001b[0m\n\u001b[0;32m---> 15\u001b[0;31m                       nn.Linear(100,100)).cuda()\n\u001b[0m\u001b[1;32m     16\u001b[0m \u001b[0;34m\u001b[0m\u001b[0m\n\u001b[1;32m     17\u001b[0m discriminator=nn.Sequential(nn.Linear(100,100),\n",
            "\u001b[0;32m/usr/local/lib/python3.7/dist-packages/torch/nn/modules/module.py\u001b[0m in \u001b[0;36mcuda\u001b[0;34m(self, device)\u001b[0m\n\u001b[1;32m    489\u001b[0m             \u001b[0mModule\u001b[0m\u001b[0;34m:\u001b[0m \u001b[0mself\u001b[0m\u001b[0;34m\u001b[0m\u001b[0;34m\u001b[0m\u001b[0m\n\u001b[1;32m    490\u001b[0m         \"\"\"\n\u001b[0;32m--> 491\u001b[0;31m         \u001b[0;32mreturn\u001b[0m \u001b[0mself\u001b[0m\u001b[0;34m.\u001b[0m\u001b[0m_apply\u001b[0m\u001b[0;34m(\u001b[0m\u001b[0;32mlambda\u001b[0m \u001b[0mt\u001b[0m\u001b[0;34m:\u001b[0m \u001b[0mt\u001b[0m\u001b[0;34m.\u001b[0m\u001b[0mcuda\u001b[0m\u001b[0;34m(\u001b[0m\u001b[0mdevice\u001b[0m\u001b[0;34m)\u001b[0m\u001b[0;34m)\u001b[0m\u001b[0;34m\u001b[0m\u001b[0;34m\u001b[0m\u001b[0m\n\u001b[0m\u001b[1;32m    492\u001b[0m \u001b[0;34m\u001b[0m\u001b[0m\n\u001b[1;32m    493\u001b[0m     \u001b[0;32mdef\u001b[0m \u001b[0mxpu\u001b[0m\u001b[0;34m(\u001b[0m\u001b[0mself\u001b[0m\u001b[0;34m:\u001b[0m \u001b[0mT\u001b[0m\u001b[0;34m,\u001b[0m \u001b[0mdevice\u001b[0m\u001b[0;34m:\u001b[0m \u001b[0mOptional\u001b[0m\u001b[0;34m[\u001b[0m\u001b[0mUnion\u001b[0m\u001b[0;34m[\u001b[0m\u001b[0mint\u001b[0m\u001b[0;34m,\u001b[0m \u001b[0mdevice\u001b[0m\u001b[0;34m]\u001b[0m\u001b[0;34m]\u001b[0m \u001b[0;34m=\u001b[0m \u001b[0;32mNone\u001b[0m\u001b[0;34m)\u001b[0m \u001b[0;34m->\u001b[0m \u001b[0mT\u001b[0m\u001b[0;34m:\u001b[0m\u001b[0;34m\u001b[0m\u001b[0;34m\u001b[0m\u001b[0m\n",
            "\u001b[0;32m/usr/local/lib/python3.7/dist-packages/torch/nn/modules/module.py\u001b[0m in \u001b[0;36m_apply\u001b[0;34m(self, fn)\u001b[0m\n\u001b[1;32m    385\u001b[0m     \u001b[0;32mdef\u001b[0m \u001b[0m_apply\u001b[0m\u001b[0;34m(\u001b[0m\u001b[0mself\u001b[0m\u001b[0;34m,\u001b[0m \u001b[0mfn\u001b[0m\u001b[0;34m)\u001b[0m\u001b[0;34m:\u001b[0m\u001b[0;34m\u001b[0m\u001b[0;34m\u001b[0m\u001b[0m\n\u001b[1;32m    386\u001b[0m         \u001b[0;32mfor\u001b[0m \u001b[0mmodule\u001b[0m \u001b[0;32min\u001b[0m \u001b[0mself\u001b[0m\u001b[0;34m.\u001b[0m\u001b[0mchildren\u001b[0m\u001b[0;34m(\u001b[0m\u001b[0;34m)\u001b[0m\u001b[0;34m:\u001b[0m\u001b[0;34m\u001b[0m\u001b[0;34m\u001b[0m\u001b[0m\n\u001b[0;32m--> 387\u001b[0;31m             \u001b[0mmodule\u001b[0m\u001b[0;34m.\u001b[0m\u001b[0m_apply\u001b[0m\u001b[0;34m(\u001b[0m\u001b[0mfn\u001b[0m\u001b[0;34m)\u001b[0m\u001b[0;34m\u001b[0m\u001b[0;34m\u001b[0m\u001b[0m\n\u001b[0m\u001b[1;32m    388\u001b[0m \u001b[0;34m\u001b[0m\u001b[0m\n\u001b[1;32m    389\u001b[0m         \u001b[0;32mdef\u001b[0m \u001b[0mcompute_should_use_set_data\u001b[0m\u001b[0;34m(\u001b[0m\u001b[0mtensor\u001b[0m\u001b[0;34m,\u001b[0m \u001b[0mtensor_applied\u001b[0m\u001b[0;34m)\u001b[0m\u001b[0;34m:\u001b[0m\u001b[0;34m\u001b[0m\u001b[0;34m\u001b[0m\u001b[0m\n",
            "\u001b[0;32m/usr/local/lib/python3.7/dist-packages/torch/nn/modules/module.py\u001b[0m in \u001b[0;36m_apply\u001b[0;34m(self, fn)\u001b[0m\n\u001b[1;32m    407\u001b[0m                 \u001b[0;31m# `with torch.no_grad():`\u001b[0m\u001b[0;34m\u001b[0m\u001b[0;34m\u001b[0m\u001b[0;34m\u001b[0m\u001b[0m\n\u001b[1;32m    408\u001b[0m                 \u001b[0;32mwith\u001b[0m \u001b[0mtorch\u001b[0m\u001b[0;34m.\u001b[0m\u001b[0mno_grad\u001b[0m\u001b[0;34m(\u001b[0m\u001b[0;34m)\u001b[0m\u001b[0;34m:\u001b[0m\u001b[0;34m\u001b[0m\u001b[0;34m\u001b[0m\u001b[0m\n\u001b[0;32m--> 409\u001b[0;31m                     \u001b[0mparam_applied\u001b[0m \u001b[0;34m=\u001b[0m \u001b[0mfn\u001b[0m\u001b[0;34m(\u001b[0m\u001b[0mparam\u001b[0m\u001b[0;34m)\u001b[0m\u001b[0;34m\u001b[0m\u001b[0;34m\u001b[0m\u001b[0m\n\u001b[0m\u001b[1;32m    410\u001b[0m                 \u001b[0mshould_use_set_data\u001b[0m \u001b[0;34m=\u001b[0m \u001b[0mcompute_should_use_set_data\u001b[0m\u001b[0;34m(\u001b[0m\u001b[0mparam\u001b[0m\u001b[0;34m,\u001b[0m \u001b[0mparam_applied\u001b[0m\u001b[0;34m)\u001b[0m\u001b[0;34m\u001b[0m\u001b[0;34m\u001b[0m\u001b[0m\n\u001b[1;32m    411\u001b[0m                 \u001b[0;32mif\u001b[0m \u001b[0mshould_use_set_data\u001b[0m\u001b[0;34m:\u001b[0m\u001b[0;34m\u001b[0m\u001b[0;34m\u001b[0m\u001b[0m\n",
            "\u001b[0;32m/usr/local/lib/python3.7/dist-packages/torch/nn/modules/module.py\u001b[0m in \u001b[0;36m<lambda>\u001b[0;34m(t)\u001b[0m\n\u001b[1;32m    489\u001b[0m             \u001b[0mModule\u001b[0m\u001b[0;34m:\u001b[0m \u001b[0mself\u001b[0m\u001b[0;34m\u001b[0m\u001b[0;34m\u001b[0m\u001b[0m\n\u001b[1;32m    490\u001b[0m         \"\"\"\n\u001b[0;32m--> 491\u001b[0;31m         \u001b[0;32mreturn\u001b[0m \u001b[0mself\u001b[0m\u001b[0;34m.\u001b[0m\u001b[0m_apply\u001b[0m\u001b[0;34m(\u001b[0m\u001b[0;32mlambda\u001b[0m \u001b[0mt\u001b[0m\u001b[0;34m:\u001b[0m \u001b[0mt\u001b[0m\u001b[0;34m.\u001b[0m\u001b[0mcuda\u001b[0m\u001b[0;34m(\u001b[0m\u001b[0mdevice\u001b[0m\u001b[0;34m)\u001b[0m\u001b[0;34m)\u001b[0m\u001b[0;34m\u001b[0m\u001b[0;34m\u001b[0m\u001b[0m\n\u001b[0m\u001b[1;32m    492\u001b[0m \u001b[0;34m\u001b[0m\u001b[0m\n\u001b[1;32m    493\u001b[0m     \u001b[0;32mdef\u001b[0m \u001b[0mxpu\u001b[0m\u001b[0;34m(\u001b[0m\u001b[0mself\u001b[0m\u001b[0;34m:\u001b[0m \u001b[0mT\u001b[0m\u001b[0;34m,\u001b[0m \u001b[0mdevice\u001b[0m\u001b[0;34m:\u001b[0m \u001b[0mOptional\u001b[0m\u001b[0;34m[\u001b[0m\u001b[0mUnion\u001b[0m\u001b[0;34m[\u001b[0m\u001b[0mint\u001b[0m\u001b[0;34m,\u001b[0m \u001b[0mdevice\u001b[0m\u001b[0;34m]\u001b[0m\u001b[0;34m]\u001b[0m \u001b[0;34m=\u001b[0m \u001b[0;32mNone\u001b[0m\u001b[0;34m)\u001b[0m \u001b[0;34m->\u001b[0m \u001b[0mT\u001b[0m\u001b[0;34m:\u001b[0m\u001b[0;34m\u001b[0m\u001b[0;34m\u001b[0m\u001b[0m\n",
            "\u001b[0;32m/usr/local/lib/python3.7/dist-packages/torch/cuda/__init__.py\u001b[0m in \u001b[0;36m_lazy_init\u001b[0;34m()\u001b[0m\n\u001b[1;32m    168\u001b[0m         \u001b[0;31m# This function throws if there's a driver initialization error, no GPUs\u001b[0m\u001b[0;34m\u001b[0m\u001b[0;34m\u001b[0m\u001b[0;34m\u001b[0m\u001b[0m\n\u001b[1;32m    169\u001b[0m         \u001b[0;31m# are found or any other error occurs\u001b[0m\u001b[0;34m\u001b[0m\u001b[0;34m\u001b[0m\u001b[0;34m\u001b[0m\u001b[0m\n\u001b[0;32m--> 170\u001b[0;31m         \u001b[0mtorch\u001b[0m\u001b[0;34m.\u001b[0m\u001b[0m_C\u001b[0m\u001b[0;34m.\u001b[0m\u001b[0m_cuda_init\u001b[0m\u001b[0;34m(\u001b[0m\u001b[0;34m)\u001b[0m\u001b[0;34m\u001b[0m\u001b[0;34m\u001b[0m\u001b[0m\n\u001b[0m\u001b[1;32m    171\u001b[0m         \u001b[0;31m# Some of the queued calls may reentrantly call _lazy_init();\u001b[0m\u001b[0;34m\u001b[0m\u001b[0;34m\u001b[0m\u001b[0;34m\u001b[0m\u001b[0m\n\u001b[1;32m    172\u001b[0m         \u001b[0;31m# we need to just return without initializing in that case.\u001b[0m\u001b[0;34m\u001b[0m\u001b[0;34m\u001b[0m\u001b[0;34m\u001b[0m\u001b[0m\n",
            "\u001b[0;31mRuntimeError\u001b[0m: No CUDA GPUs are available"
          ]
        }
      ]
    },
    {
      "cell_type": "code",
      "metadata": {
        "id": "BjHNUY8RMrul"
      },
      "source": [
        "for epoch in range(epochs):\n",
        "    optimizer_discriminator.zero_grad()\n",
        "    optimizer_generator.zero_grad()\n",
        "\n",
        "    fake_data = generator(torch.rand(5000,100))\n",
        "    real_data = torch.tensor(pca.transform(P),dtype=torch.float,device='cuda')\n",
        " \n",
        "    discriminator_loss = (discriminator(real)).mean() + (1-discriminator(fake)).mean()\n",
        "\n",
        "    intermediate_activations_fake = discriminator[:-1](fake)\n",
        "    intermediate_activations_real = discriminator[:-1](real)\n",
        "\n",
        "    generator_loss = ((intermediate_activations_fake-intermediate_activations_real)**2).mean() + ((cov(intermediate_activations_fake)-cov(intermediate_activations_real))**2).mean()\n",
        "\n",
        "    discriminator_loss.backward()\n",
        "    optimizer_discriminator.step()\n",
        "\n",
        "    generator_loss.backward()\n",
        "    optimizer_generator.step()"
      ],
      "execution_count": null,
      "outputs": []
    }
  ]
}